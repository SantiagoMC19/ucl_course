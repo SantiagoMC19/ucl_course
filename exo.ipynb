{
  "nbformat": 4,
  "nbformat_minor": 0,
  "metadata": {
    "colab": {
      "provenance": [],
      "toc_visible": true,
      "authorship_tag": "ABX9TyOuRyBOO8uZTi0Fx+T6PcX3",
      "include_colab_link": true
    },
    "kernelspec": {
      "name": "python3",
      "display_name": "Python 3"
    },
    "language_info": {
      "name": "python"
    }
  },
  "cells": [
    {
      "cell_type": "markdown",
      "metadata": {
        "id": "view-in-github",
        "colab_type": "text"
      },
      "source": [
        "<a href=\"https://colab.research.google.com/github/SantiagoMC19/ucl_course/blob/main/exo.ipynb\" target=\"_parent\"><img src=\"https://colab.research.google.com/assets/colab-badge.svg\" alt=\"Open In Colab\"/></a>"
      ]
    },
    {
      "cell_type": "code",
      "source": [
        "!pip install pyspark"
      ],
      "metadata": {
        "colab": {
          "base_uri": "https://localhost:8080/"
        },
        "id": "YzXrt8XPXo_9",
        "outputId": "a09488e9-47e6-4313-ee0a-6718a47a1fd0"
      },
      "execution_count": 3,
      "outputs": [
        {
          "output_type": "stream",
          "name": "stdout",
          "text": [
            "Collecting pyspark\n",
            "  Downloading pyspark-3.5.0.tar.gz (316.9 MB)\n",
            "\u001b[2K     \u001b[90m━━━━━━━━━━━━━━━━━━━━━━━━━━━━━━━━━━━━━━━━\u001b[0m \u001b[32m316.9/316.9 MB\u001b[0m \u001b[31m3.8 MB/s\u001b[0m eta \u001b[36m0:00:00\u001b[0m\n",
            "\u001b[?25h  Preparing metadata (setup.py) ... \u001b[?25l\u001b[?25hdone\n",
            "Requirement already satisfied: py4j==0.10.9.7 in /usr/local/lib/python3.10/dist-packages (from pyspark) (0.10.9.7)\n",
            "Building wheels for collected packages: pyspark\n",
            "  Building wheel for pyspark (setup.py) ... \u001b[?25l\u001b[?25hdone\n",
            "  Created wheel for pyspark: filename=pyspark-3.5.0-py2.py3-none-any.whl size=317425345 sha256=6470385deae552cf21a882bc6668aa4ed5074b1ab956b19ad26e054ba188c728\n",
            "  Stored in directory: /root/.cache/pip/wheels/41/4e/10/c2cf2467f71c678cfc8a6b9ac9241e5e44a01940da8fbb17fc\n",
            "Successfully built pyspark\n",
            "Installing collected packages: pyspark\n",
            "Successfully installed pyspark-3.5.0\n"
          ]
        }
      ]
    },
    {
      "cell_type": "code",
      "source": [
        "from pyspark.sql import SparkSession\n",
        "\n",
        "spark = SparkSession.builder.config(\"spark.jars.packages\", \"org.apache.hadoop:hadoop-azure:3.3.1\").getOrCreate()\n",
        "datalakeAddress = \"fs.azure.account.key.agilyticcourse.dfs.core.windows.net\"\n",
        "spark.conf.set(datalakeAddress, \"NaXkTV+YI+yoDTkX0rU/FRAcmOv2TkcWIuTr32+VG9mJs/IdVWQXkT188OyXDHJSGgHCR+jVzbuf+AStOR/xhA==\")\n",
        "\n",
        "def read_parquet(spark, datastage, path):\n",
        "  source = \"abfss://\"+ datastage + \"@agilyticcourse.dfs.core.windows.net/\"+ path\n",
        "  return spark.read.format(\"parquet\").load(source)"
      ],
      "metadata": {
        "id": "guAZMV3iX0hI"
      },
      "execution_count": 4,
      "outputs": []
    },
    {
      "cell_type": "code",
      "source": [
        "df = read_parquet(spark, \"bronze\", \"squirrel/park-data_.parquet\")\n",
        "counter = df.select(\"Area Name\", \"Area ID\").distinct();\n",
        "counter.show();\n",
        "counter.count();\n",
        "\n",
        "\n",
        "\n"
      ],
      "metadata": {
        "colab": {
          "base_uri": "https://localhost:8080/"
        },
        "id": "NcM8x4hpX2dB",
        "outputId": "22749041-59db-4cb5-ccb4-8a3e26dae977"
      },
      "execution_count": 13,
      "outputs": [
        {
          "output_type": "stream",
          "name": "stdout",
          "text": [
            "+-----------------+-------+\n",
            "|        Area Name|Area ID|\n",
            "+-----------------+-------+\n",
            "|  LOWER MANHATTAN|      C|\n",
            "|         BROOKLYN|      D|\n",
            "|  UPPER MANHATTAN|      A|\n",
            "|CENTRAL MANHATTAN|      B|\n",
            "+-----------------+-------+\n",
            "\n"
          ]
        }
      ]
    },
    {
      "cell_type": "markdown",
      "source": [],
      "metadata": {
        "id": "5kMtBnT6iqX5"
      }
    }
  ]
}