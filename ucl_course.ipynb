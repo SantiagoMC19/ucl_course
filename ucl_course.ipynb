{
  "nbformat": 4,
  "nbformat_minor": 0,
  "metadata": {
    "colab": {
      "provenance": [],
      "toc_visible": true
    },
    "kernelspec": {
      "name": "python3",
      "display_name": "Python 3"
    },
    "language_info": {
      "name": "python"
    }
  },
  "cells": [
    {
      "cell_type": "code",
      "execution_count": 1,
      "metadata": {
        "colab": {
          "base_uri": "https://localhost:8080/"
        },
        "id": "6iln36ttljDe",
        "outputId": "b1976821-6203-4b86-e123-23b9aa857caa"
      },
      "outputs": [
        {
          "output_type": "stream",
          "name": "stdout",
          "text": [
            "Requirement already satisfied: pyspark in /usr/local/lib/python3.10/dist-packages (3.5.0)\n",
            "Requirement already satisfied: py4j==0.10.9.7 in /usr/local/lib/python3.10/dist-packages (from pyspark) (0.10.9.7)\n"
          ]
        }
      ],
      "source": [
        "!pip install pyspark"
      ]
    },
    {
      "cell_type": "code",
      "source": [
        "from pyspark.sql import SparkSession\n",
        "\n",
        "spark = SparkSession.builder.config(\"spark.jars.packages\", \"org.apache.hadoop:hadoop-azure:3.3.1\").getOrCreate()\n",
        "datalakeAddress = \"fs.azure.account.key.agilyticcourse.dfs.core.windows.net\"\n",
        "spark.conf.set(datalakeAddress, \"NaXkTV+YI+yoDTkX0rU/FRAcmOv2TkcWIuTr32+VG9mJs/IdVWQXkT188OyXDHJSGgHCR+jVzbuf+AStOR/xhA==\")\n",
        "\n",
        "def read_parquet(spark, datastage, path):\n",
        "  source = \"abfss://\"+ datastage + \"@agilyticcourse.dfs.core.windows.net/\"+ path\n",
        "  return spark.read.format(\"parquet\").load(source)"
      ],
      "metadata": {
        "id": "7Ke18tLW8kol"
      },
      "execution_count": 7,
      "outputs": []
    },
    {
      "cell_type": "code",
      "source": [
        "df = read_parquet(spark, \"bronze\", \"squirrel/park-data_.parquet\")\n",
        "df.show()"
      ],
      "metadata": {
        "colab": {
          "base_uri": "https://localhost:8080/"
        },
        "id": "J68TOfJBLDdy",
        "outputId": "36df1399-8198-4709-f34a-c05b77a0edd0"
      },
      "execution_count": 9,
      "outputs": [
        {
          "output_type": "stream",
          "name": "stdout",
          "text": [
            "+-----------------+-------+--------------------+-------+------+----------+----------+-------------------------------------+--------------------+----------------------+--------------------+---------------------+-------------------+-------------------+------------------+\n",
            "|        Area Name|Area ID|           Park Name|Park ID|  Date|Start Time|  End Time|Total Time (in minutes, if available)|     Park Conditions|Other Animal Sightings|              Litter|Temperature & Weather|Number of Squirrels|Squirrel Sighter(s)|Number of Sighters|\n",
            "+-----------------+-------+--------------------+-------+------+----------+----------+-------------------------------------+--------------------+----------------------+--------------------+---------------------+-------------------+-------------------+------------------+\n",
            "|  UPPER MANHATTAN|      A|     Fort Tryon Park|    1.0|3/1/20|3:14:00 PM|4:05:00 PM|                                   51|                Busy|  Humans, Dogs, Pig...|                Some|    43 degrees, sunny|                 12|     01, 02, 03, 04|                 4|\n",
            "|  UPPER MANHATTAN|      A| J. Hood Wright Park|    2.0|3/1/20|3:30:00 PM|4:00:00 PM|                                   30|                Calm|  Humans, Hawks, Do...|      Some, in trees|          cold, clear|                 24|             05, 06|                 2|\n",
            "|  UPPER MANHATTAN|      A|     Highbridge Park|    3.0|3/1/20|3:21:00 PM|4:15:00 PM|                                   54|Calm, pick-up bas...|  Humans, Dogs (3, ...|Some, especially ...|           43 degrees|                 16|         07, 08, 09|                 3|\n",
            "|  UPPER MANHATTAN|      A|   St. Nicholas Park|    4.0|3/1/20|3:15:00 PM|3:45:00 PM|                                   30|                Calm|          Humans, Dogs|Some, backside of...|    43 degrees, clear|                 15|         10, 11, 12|                 3|\n",
            "|  UPPER MANHATTAN|      A|Riverside Park (s...|    5.0|3/1/20|3:15:00 PM|3:45:00 PM|                                   30|                Calm|          Humans, Dogs|                NULL|                 NULL|                 28|         13, 14, 15|                 3|\n",
            "|  UPPER MANHATTAN|      A|  Marcus Garvey Park|    6.0|3/1/20|3:45:00 PM|4:15:00 PM|                                   30|Calm, re: humans,...|  Hawks, Dogs, Pigeons|            Abundant|    42 degrees, clear|                 34|                 16|                 1|\n",
            "|CENTRAL MANHATTAN|      B| Madison Square Park|    7.0|3/1/20|2:30:00 PM|3:50:00 PM|                                   80|                Busy|  Humans, Dogs, Pig...|                NULL|    43 degrees, sunny|                 11|     17, 18, 19, 20|                 4|\n",
            "|CENTRAL MANHATTAN|      B|   Union Square Park|    8.0|3/1/20|3:15:00 PM|3:45:00 PM|                                   30|                Busy|  Humans, Dogs, Pig...|                NULL|    40 degrees, sunny|                 16|     21, 22, 23, 24|                 4|\n",
            "|CENTRAL MANHATTAN|      B|Stuyvesant Square...|    9.0|3/1/20|3:00:00 PM|4:00:00 PM|                                   60|Calm, 20Š—–30 ppl...|  Humans, Dogs, Spa...|                Some|    45 degrees, sunny|                 25|             25, 26|                 2|\n",
            "|CENTRAL MANHATTAN|      B|Washington Square...|   10.0|3/1/20|3:20:00 PM|4:00:00 PM|                                   40|                Busy|          Humans, Dogs|                None| 45 degrees, sunny...|                 51|             27, 28|                 2|\n",
            "|CENTRAL MANHATTAN|      B|Tompkins Square Park|   11.0|3/1/20|3:15:00 PM|3:45:00 PM|                                   30|                NULL|                  NULL|                NULL|                 NULL|                 59|             29, 30|                 2|\n",
            "|CENTRAL MANHATTAN|      B|John V. Lindsay E...|   12.0|3/1/20|3:01:00 PM|3:45:00 PM|                                   44|                Calm|  Humans (Joggers, ...|                NULL|         windy, clear|                 12|                 31|                 1|\n",
            "|  LOWER MANHATTAN|      C|Sara D. Roosevelt...|   13.1|3/1/20|3:30:00 PM|4:00:00 PM|                                   30|                Busy|   Humans, Dogs (Gray)|                Some|    44 degrees, sunny|                  0|         32, 33, 34|                 3|\n",
            "|  LOWER MANHATTAN|      C|Sara D. Roosevelt...|   13.2|3/1/20|3:30:00 PM|4:00:00 PM|                                   30|                Busy|       Humans, Pigeons|                Some|    43 degrees, sunny|                  0|         35, 36, 37|                 3|\n",
            "|  LOWER MANHATTAN|      C|         Seward Park|   14.0|3/1/20|3:25:00 PM|3:55:00 PM|                                   30|                Busy|       Humans, Pigeons|                Some|    40 degrees, sunny|                  7|     38, 39, 40, 41|                 4|\n",
            "|  LOWER MANHATTAN|      C|  Corlears Hook Park|   15.0|3/1/20|3:35:00 PM|4:15:00 PM|                                   40|                Calm|  Humans, Dogs, Pig...|Some, mostly in t...|    48 degrees, sunny|                 16|         42, 43, 44|                 3|\n",
            "|  LOWER MANHATTAN|      C|       Columbus Park|   16.0|3/1/20|3:47:00 PM|4:38:00 PM|                                   51|                Busy|  Humans, Dogs, Pig...|                None| 42 degrees, windy...|                  4|             45, 46|                 2|\n",
            "|  LOWER MANHATTAN|      C|   Thomas Paine Park|   17.0|3/1/20|3:35:00 PM|3:45:00 PM|                                   10|                Calm|  Humans, Dogs, Pig...|                None| 42 degrees, windy...|                  0|             45, 46|                 2|\n",
            "|  LOWER MANHATTAN|      C|       Teardrop Park|   18.0|3/1/20|3:37:00 PM|4:00:00 PM|                                   23|                NULL|  Humans, Dogs, Fis...|                Some| 43 degrees, sunny...|                  1|             47, 48|                 2|\n",
            "|  LOWER MANHATTAN|      C|      City Hall Park|   19.0|3/1/20|3:34:00 PM|4:04:00 PM|                                   30|                Calm|  Humans, Pigeons, Cat|                None|    44 degrees, sunny|                 18|             49, 50|                 2|\n",
            "+-----------------+-------+--------------------+-------+------+----------+----------+-------------------------------------+--------------------+----------------------+--------------------+---------------------+-------------------+-------------------+------------------+\n",
            "only showing top 20 rows\n",
            "\n"
          ]
        }
      ]
    }
  ]
}